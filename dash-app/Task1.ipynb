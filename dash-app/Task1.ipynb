{
 "cells": [
  {
   "cell_type": "markdown",
   "metadata": {},
   "source": [
    "# Building Interactive Dashboards for Machine Learning using Plotly Dash\n",
    "Welcome to this project! We will be building an interactive dashboard in a machine learning context. This kind of dashboard can be used for exploratory data analysis, as well as for model evaluation. We will be using this dashboard for the latter: we will visualize the results of different dimensionality reduction algorithms on a customer segmentation task.\n",
    "\n",
    "[Plotly Dash](https://plotly.com/dash/) gives us the capability to design a web-based dashboard that allows user input to decide what is shown on the screen. For example, we can have multiple plots that interact amongst themselves depending where the user is hovering the mouse. It can also allow for other forms of input, such as dropdowns, radio buttons, text entry, and much more.\n",
    "\n",
    "## Prerequisites\n",
    "- Intermediate-level knowledge of Python (for example, NumPy and Pandas)\n",
    "- Basic UNIX/Bash skills for launching our script\n",
    "- Some understanding of HTML can be beneficial\n",
    "- Experience with some plotting libraries can help some understanding, for example Matplotlib (or ideally Plotly)\n",
    "\n",
    "## Project Outline\n",
    "**Task 1**: Introduction (this section)\n",
    "\n",
    "**Task 2**: HTML Skeleton of Project\n",
    "\n",
    "**Task 3**: Latent Space Scatter Plot\n",
    "\n",
    "**Task 4**: Styling Scatter Plot\n",
    "\n",
    "**Task 5**: Linking Bar Charts\n",
    "\n",
    "**Task 6**: Styling Bar Charts\n",
    "\n",
    "**Task 7**: Investigating what we've built!\n",
    "\n",
    "\n",
    "## Task 1: Introduction\n",
    "[This is the dataset](https://archive.ics.uci.edu/ml/datasets/Wholesale+customers) we will be using. It is collated by Margarida G. M. S. Cardoso, and comprises annual spending across different types of retail products (for example, Frozen. Grocery, Delicatessen, etc.). We will use unsupervised methods to reduce the dimensionality of this data, and plot the resulting 2-D data, and investigate what our models are learning.\n",
    "\n",
    "### Models\n",
    "The models that will be in our data.\n",
    "\n",
    "- [Principal Component Analysis (PCA)](https://scikit-learn.org/stable/modules/generated/sklearn.decomposition.PCA.html)\n",
    "- [Uniform Manifold Approximation and Projection (UMAP)](https://umap-learn.readthedocs.io/en/latest/)\n",
    "- [Autoencoder (AE)](https://www.tensorflow.org/tutorials/generative/autoencoder)\n",
    "- [Variational Autoencoder (VAE) ](https://www.tensorflow.org/tutorials/generative/cvae)\n",
    "\n",
    "These models are not the focus of this project, but we will discuss their results by the final task."
   ]
  },
  {
   "cell_type": "code",
   "execution_count": null,
   "metadata": {
    "collapsed": true,
    "jupyter": {
     "outputs_hidden": true
    }
   },
   "outputs": [],
   "source": []
  }
 ],
 "metadata": {
  "kernelspec": {
   "display_name": "Python 3",
   "language": "python",
   "name": "python3"
  },
  "language_info": {
   "codemirror_mode": {
    "name": "ipython",
    "version": 3
   },
   "file_extension": ".py",
   "mimetype": "text/x-python",
   "name": "python",
   "nbconvert_exporter": "python",
   "pygments_lexer": "ipython3",
   "version": "3.6.9"
  }
 },
 "nbformat": 4,
 "nbformat_minor": 4
}
